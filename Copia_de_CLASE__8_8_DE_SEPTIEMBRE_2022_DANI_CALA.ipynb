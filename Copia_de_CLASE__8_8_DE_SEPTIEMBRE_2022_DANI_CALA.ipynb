{
  "nbformat": 4,
  "nbformat_minor": 0,
  "metadata": {
    "colab": {
      "provenance": [],
      "collapsed_sections": []
    },
    "kernelspec": {
      "name": "python3",
      "display_name": "Python 3"
    },
    "language_info": {
      "name": "python"
    }
  },
  "cells": [
    {
      "cell_type": "markdown",
      "source": [
        "<center>\n",
        "\n",
        "\n",
        "\n",
        "#**COLEGIO SIGLO XXI-EL SOCORRO**\n",
        "#**PRESENTADO A: ING PAOLA ANDREA QUINTERO**\n",
        "#**PRESENTADO POR: DANIELA CALA PLATA**\n",
        "#**GRADO DÉCIMO**\n",
        "#**08 DE SEPTIEMBRE**\n"
      ],
      "metadata": {
        "id": "nWY6DRZNrRVM"
      }
    },
    {
      "cell_type": "markdown",
      "source": [
        "#**¿QUÈ ES PYTHON?**\n",
        "#El lenguaje de programación Python es ampliamente utilizado por empresas de todo el mundo para construir aplicaciones web, analizar datos, automatizar operaciones y crear aplicaciones empresariales fiables y escalables.\n",
        "#**FECHA DE NACIMIENTO:**\n",
        "#1991\n",
        "#**CREADOR**\n",
        "#Guido Van Rossum\n",
        "#**RECUPERADO DE**\n",
        "#https://www.esic.edu/rethink/tecnologia/para-que-sirve-python"
      ],
      "metadata": {
        "id": "aHGv5jNf01P-"
      }
    },
    {
      "cell_type": "code",
      "execution_count": null,
      "metadata": {
        "id": "HuiXJPG7rO-U"
      },
      "outputs": [],
      "source": []
    },
    {
      "cell_type": "code",
      "source": [
        "print(\"esto es una suma\")\n",
        "numero_uno=7\n",
        "numero_dos=6\n",
        "resultado=numero_uno + numero_dos\n",
        "print(resultado)\n"
      ],
      "metadata": {
        "colab": {
          "base_uri": "https://localhost:8080/"
        },
        "id": "eNoBXD9a3DUf",
        "outputId": "2763047f-e250-49ff-e37e-e3ff1ddb01cc"
      },
      "execution_count": null,
      "outputs": [
        {
          "output_type": "stream",
          "name": "stdout",
          "text": [
            "esto es una suma\n",
            "13\n"
          ]
        }
      ]
    },
    {
      "cell_type": "code",
      "source": [
        "print(\"esto es una resta\")\n",
        "numero_uno=120\n",
        "numero_dos=107\n",
        "resultado=numero_uno - numero_dos\n",
        "print(resultado)"
      ],
      "metadata": {
        "colab": {
          "base_uri": "https://localhost:8080/"
        },
        "id": "iTm1bMUM3470",
        "outputId": "17d731f4-9f15-4bbf-8fbc-ea2395cee662"
      },
      "execution_count": null,
      "outputs": [
        {
          "output_type": "stream",
          "name": "stdout",
          "text": [
            "esto es una resta\n",
            "13\n"
          ]
        }
      ]
    },
    {
      "cell_type": "code",
      "source": [
        "print(\"esto es una multiplicación\")\n",
        "numero_uno=13\n",
        "numero_dos=1\n",
        "resultado=numero_uno * numero_dos\n",
        "print(resultado)"
      ],
      "metadata": {
        "colab": {
          "base_uri": "https://localhost:8080/"
        },
        "id": "xT0XpAPC4M5Z",
        "outputId": "808aeddb-f764-4238-c023-779d208a77f9"
      },
      "execution_count": null,
      "outputs": [
        {
          "output_type": "stream",
          "name": "stdout",
          "text": [
            "esto es una multiplicación\n",
            "13\n"
          ]
        }
      ]
    },
    {
      "cell_type": "code",
      "source": [
        "print(\"esto es una división\")\n",
        "numero_uno=26\n",
        "numero_dos=2\n",
        "resultado=numero_uno / numero_dos\n",
        "print(resultado)"
      ],
      "metadata": {
        "colab": {
          "base_uri": "https://localhost:8080/"
        },
        "id": "CsrKh7S94bOp",
        "outputId": "84153deb-c9cb-4ad0-e51b-40c902468f85"
      },
      "execution_count": null,
      "outputs": [
        {
          "output_type": "stream",
          "name": "stdout",
          "text": [
            "esto es una división\n",
            "13.0\n"
          ]
        }
      ]
    },
    {
      "cell_type": "markdown",
      "source": [
        "#Ejercicios de tipos de datos simples\n"
      ],
      "metadata": {
        "id": "wJaZfvMd5LgZ"
      }
    },
    {
      "cell_type": "markdown",
      "source": [
        "## Ejercicio 1\n",
        "\n",
        "Escribir un programa que pregunte el nombre del usuario en la consola y un numero entero e impreima por pantalla  en lineas distintas el nombre del usuario tantas veces como el numero introducido"
      ],
      "metadata": {
        "id": "yjNqPHfG9hBv"
      }
    },
    {
      "cell_type": "code",
      "source": [
        "nombre = input(\"¿cómo te llamas?\")\n",
        "n = input(\"introduce un número entero: \")\n",
        "print((nombre + \"\\n\") *int(n))"
      ],
      "metadata": {
        "colab": {
          "base_uri": "https://localhost:8080/"
        },
        "id": "-HlqFYSZ9oQP",
        "outputId": "ab4bb6d3-2151-4dc3-c0a3-06117d332805"
      },
      "execution_count": 1,
      "outputs": [
        {
          "output_type": "stream",
          "name": "stdout",
          "text": [
            "¿cómo te llamas?Dani\n",
            "introduce un número entero: 13\n",
            "Dani\n",
            "Dani\n",
            "Dani\n",
            "Dani\n",
            "Dani\n",
            "Dani\n",
            "Dani\n",
            "Dani\n",
            "Dani\n",
            "Dani\n",
            "Dani\n",
            "Dani\n",
            "Dani\n",
            "\n"
          ]
        }
      ]
    },
    {
      "cell_type": "markdown",
      "source": [
        "## EJERCICIO 2\n",
        "\n",
        "Escribir un programa que pida al usuario su peso (en KG) y estatura (en M),\n",
        "calcule el indice de masa corporal y lo almacene en una variable, e imprima por pantalla la frase 'tu indice de masa corporal es <imc>' donde  '<imc>' es el indice de masa corporal calculado redondeado con dos decimales \n"
      ],
      "metadata": {
        "id": "7voM_md690pX"
      }
    },
    {
      "cell_type": "code",
      "source": [
        "peso = input(\"¿cual es tu peso en KG?\")\n",
        "estatura = input(\"¿cual es tu estatura en M?\")\n",
        "imc = round(float(peso)/float(estatura)**2,2)\n",
        "print(\"tu indice de masa corporal es \" + str(imc))"
      ],
      "metadata": {
        "colab": {
          "base_uri": "https://localhost:8080/"
        },
        "id": "-5_EvxqR97kH",
        "outputId": "3a819a84-484a-4261-b013-9e9fd1308efa"
      },
      "execution_count": 2,
      "outputs": [
        {
          "output_type": "stream",
          "name": "stdout",
          "text": [
            "¿cual es tu peso en KG?56\n",
            "¿cual es tu estatura en M?1.63\n",
            "tu indice de masa corporal es 21.08\n"
          ]
        }
      ]
    },
    {
      "cell_type": "code",
      "source": [],
      "metadata": {
        "id": "_CqzI2U7CrYQ"
      },
      "execution_count": null,
      "outputs": []
    },
    {
      "cell_type": "markdown",
      "source": [
        "# **LÍBRERIAS EN PHYTON**\n",
        "# ¿Que es?:\n",
        "#En este sentido, una librería es un conjunto de archivos que se utiliza para desarrollar software. Suele estar compuesta de código y datos, y su fin es ser utilizada por otros programas de forma totalmente autónoma. Simple y llanamente, es un archivo importable."
      ],
      "metadata": {
        "id": "T0oVJ4zP-mjP"
      }
    }
  ]
}